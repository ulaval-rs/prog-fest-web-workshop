{
 "cells": [
  {
   "cell_type": "code",
   "execution_count": 11,
   "id": "1e1ab997",
   "metadata": {},
   "outputs": [],
   "source": [
    "from pprint import pprint\n",
    "\n",
    "import pydicom\n",
    "import matplotlib.pyplot as plt\n",
    "import util"
   ]
  },
  {
   "cell_type": "markdown",
   "id": "cb5c21e9",
   "metadata": {
    "slideshow": {
     "slide_type": "slide"
    }
   },
   "source": [
    "# <center>API REST : accéder à des données et des fonctionnalités via le web</center>\n",
    "\n",
    "<br>\n",
    "<center>Gabriel Couture, Félix-Antoine Fortin, Olivier Chouinard-Banville</center>"
   ]
  },
  {
   "cell_type": "markdown",
   "id": "e0d9d53c",
   "metadata": {
    "slideshow": {
     "slide_type": "slide"
    }
   },
   "source": [
    "## Mise en situation\n",
    "\n",
    "- Vous êtes un stagiaire en physique médiale\n",
    "- Vous devez évaluer la qualité de traitements de radiothérapie\n",
    "- Pour ce faire : nous utilisons les histogrammes dose-volume (DVH)"
   ]
  },
  {
   "cell_type": "markdown",
   "id": "4bc0d2c9",
   "metadata": {
    "slideshow": {
     "slide_type": "slide"
    }
   },
   "source": [
    "## Radiothérapie : cours express\n",
    "\n",
    "- Acquisition d'images\n",
    "- Tracé de structure (organes/région d'intérêt)\n",
    "- Planification de la dose à délivrer\n",
    "- Administraction de la dose\n",
    "<center><img src=\"./imgs/radiotherapy.png\" style=\"width: 700px;\"></center>"
   ]
  },
  {
   "cell_type": "markdown",
   "id": "be6d4de6",
   "metadata": {
    "slideshow": {
     "slide_type": "slide"
    }
   },
   "source": [
    "## Radiothérapie : cours express\n",
    "- Tracé de structure (organes/région d'intérêt)\n",
    "\n",
    "<center><img src=\"./imgs/segmentation.png\" style=\"width: 600px;\"></center>"
   ]
  },
  {
   "cell_type": "markdown",
   "id": "bbb5e498",
   "metadata": {},
   "source": [
    "## Radiothérapie : cours express\n",
    "- Administration de la dose\n",
    "\n",
    "<center><img src=\"./imgs/dose.png\" style=\"width: 600px;\"></center>"
   ]
  },
  {
   "cell_type": "markdown",
   "id": "07d7c9a6",
   "metadata": {
    "slideshow": {
     "slide_type": "slide"
    }
   },
   "source": [
    "## Radiothérapie : cours express\n",
    "- Données impliquées\n",
    "    - Images CT\n",
    "    - Structure (région/organe dessiné)\n",
    "    - Carte de dose (array en 3D de la dose délivrée)\n",
    "<center><img src=\"./imgs/ct-struct-dose.gif\" style=\"width: 100%;\"></center>"
   ]
  },
  {
   "cell_type": "markdown",
   "id": "0e3c5339",
   "metadata": {
    "slideshow": {
     "slide_type": "slide"
    }
   },
   "source": [
    "## Comment évaluer la qualité du traitement?\n",
    "\n",
    "- Histogramme dose-volume (DVH)\n"
   ]
  },
  {
   "cell_type": "markdown",
   "id": "357bfb5a",
   "metadata": {
    "slideshow": {
     "slide_type": "slide"
    }
   },
   "source": [
    "## À faire\n",
    "\n",
    "<center><img src=\"./imgs/atelier.png\" style=\"width: 1200px;\"></center>"
   ]
  },
  {
   "cell_type": "markdown",
   "id": "b7d65969",
   "metadata": {
    "slideshow": {
     "slide_type": "slide"
    }
   },
   "source": [
    "## Données à récupérer\n",
    "\n",
    "<table border=\"0\">\n",
    " <tr>\n",
    "    <td><img src=\"./imgs/cylinder.png\" style=\"width: 250px;\"></td>\n",
    "    <td><img src=\"./imgs/sphere.png\" style=\"width: 250px;\"></td>\n",
    " </tr>\n",
    "</table>"
   ]
  },
  {
   "cell_type": "markdown",
   "id": "e823be67",
   "metadata": {
    "slideshow": {
     "slide_type": "slide"
    }
   },
   "source": [
    "## Librairie Python `requests`\n",
    "\n",
    "- GET `requests.get(url='http://<url>', params={'key': 'value'})`\n",
    "- POST `requests.post(url='http://<url>', data={'key': 'value'}, files={'key': file})`\n",
    "- PUT `requests.put(url='http://<url>', data={'key': 'value'})`\n",
    "- DELETE `requests.delete(url='http://<url>')`"
   ]
  },
  {
   "cell_type": "code",
   "execution_count": 12,
   "id": "9b3617ab",
   "metadata": {
    "slideshow": {
     "slide_type": "-"
    }
   },
   "outputs": [],
   "source": [
    "import requests\n",
    "\n",
    "URL = 'http://localhost:5000/'"
   ]
  },
  {
   "cell_type": "markdown",
   "id": "ae2b77e4",
   "metadata": {
    "slideshow": {
     "slide_type": "slide"
    }
   },
   "source": [
    "## Valider la connexion"
   ]
  },
  {
   "cell_type": "code",
   "execution_count": 13,
   "id": "5b3b2bd1",
   "metadata": {
    "slideshow": {
     "slide_type": "-"
    }
   },
   "outputs": [
    {
     "name": "stdout",
     "output_type": "stream",
     "text": [
      "Code HTTP: 200\n",
      "{'message': 'Bonjour et bienvenue au workshop sur le Web!'}\n"
     ]
    }
   ],
   "source": [
    "response = requests.get(f'{URL}')\n",
    "print('Code HTTP:', response.status_code)\n",
    "pprint(response.json())"
   ]
  },
  {
   "cell_type": "markdown",
   "id": "c251f711",
   "metadata": {
    "pycharm": {
     "name": "#%% md\n"
    }
   },
   "source": [
    "## Création d'un compte\n",
    "- Créez d'abord votre compte\n",
    "- Pour créer un compte, faîtes un POST avec votre idul à la route `http://URL/account`\n",
    "    - Vous pouvez soumettre votre idul de cette façon : `{'idul': 'votre-idul'}`"
   ]
  },
  {
   "cell_type": "code",
   "execution_count": 14,
   "id": "9f6f84e5",
   "metadata": {
    "pycharm": {
     "name": "#%%\n"
    }
   },
   "outputs": [
    {
     "name": "stdout",
     "output_type": "stream",
     "text": [
      "409\n",
      "{'error': '\"gacou42\" user already exits'}\n"
     ]
    }
   ],
   "source": [
    "response = requests.post(f'{URL}/account', data={'idul': 'gacou42'})\n",
    "print(response.status_code)\n",
    "print(response.json())"
   ]
  },
  {
   "cell_type": "markdown",
   "id": "6fa66810",
   "metadata": {
    "slideshow": {
     "slide_type": "slide"
    }
   },
   "source": [
    "## Authentification\n",
    "\n",
    "- Vous avez maintenant un compte, utilisez votre IDUL pour vous connecter!\n",
    "- La route de l'API REST qui vous permet d'émettre un jeton d'authentification est `http://URL/auth`\n",
    "- Soumettez votre idul via un POST afin d'émettre un jeton (token)\n",
    "- Ce jeton vous permettra valider votre identiter par la suite"
   ]
  },
  {
   "cell_type": "code",
   "execution_count": 15,
   "id": "ac845f68",
   "metadata": {
    "scrolled": true
   },
   "outputs": [
    {
     "name": "stdout",
     "output_type": "stream",
     "text": [
      "200\n",
      "{'token': 'e2a2f3d81a0de2ba37bb821c9e16c7960e21cf84'}\n"
     ]
    }
   ],
   "source": [
    "response = requests.post(f'{URL}/auth', data={'idul': 'gacou42'})\n",
    "print(response.status_code)\n",
    "print(response.json())"
   ]
  },
  {
   "cell_type": "markdown",
   "id": "c1e2d4af",
   "metadata": {},
   "source": [
    "## Récupération des données\n",
    "- Les données sont sous le format DICOM\n",
    "- Vérifiez quelles données sont accessibles en les récupérant à `http://URL/data`\n",
    "- Pour calculer un DVH, vous aurez besoin de r"
   ]
  },
  {
   "cell_type": "code",
   "execution_count": 16,
   "id": "90167c4c",
   "metadata": {},
   "outputs": [
    {
     "name": "stdout",
     "output_type": "stream",
     "text": [
      "['structure', 'dose']\n"
     ]
    }
   ],
   "source": [
    "TOKEN = 'e2a2f3d81a0de2ba37bb821c9e16c7960e21cf84'\n",
    "\n",
    "response = requests.get(f'{URL}/data', params={'token': TOKEN})\n",
    "print(response.json())"
   ]
  },
  {
   "cell_type": "code",
   "execution_count": 17,
   "id": "4f518587",
   "metadata": {},
   "outputs": [
    {
     "name": "stdout",
     "output_type": "stream",
     "text": [
      "RTSTRUCT\n",
      "Gabriel Couture\n",
      "RTDOSE\n",
      "Gabriel Couture\n"
     ]
    }
   ],
   "source": [
    "response = requests.get(f'{URL}/data/structure', params={'token': TOKEN})\n",
    "structure = util.read_dicom_dataset(response.content)\n",
    "print(structure.Modality)\n",
    "print(structure.PatientName)\n",
    "\n",
    "response = requests.get(f'{URL}/data/dose', params={'token': TOKEN})\n",
    "dose = util.read_dicom_dataset(response.content)\n",
    "print(dose.Modality)\n",
    "print(dose.PatientName)"
   ]
  },
  {
   "cell_type": "code",
   "execution_count": 18,
   "id": "68150129",
   "metadata": {},
   "outputs": [
    {
     "name": "stdout",
     "output_type": "stream",
     "text": [
      "^\n",
      "^\n"
     ]
    }
   ],
   "source": [
    "structure_bytes = util.dicom_dataset_to_bytes(structure)\n",
    "\n",
    "response = requests.post(f'{URL}/anonymize', files={'file': structure_bytes})\n",
    "structure = util.read_dicom_dataset(response.content)\n",
    "print(structure.PatientName)\n",
    "\n",
    "dose_bytes = util.dicom_dataset_to_bytes(dose)\n",
    "\n",
    "response = requests.post(f'{URL}/anonymize', files={'file': dose_bytes})\n",
    "dose = util.read_dicom_dataset(response.content)\n",
    "print(dose.PatientName)"
   ]
  },
  {
   "cell_type": "markdown",
   "id": "e45a13d4",
   "metadata": {
    "pycharm": {
     "name": "#%% md\n"
    }
   },
   "source": [
    "## Calcul des DVH"
   ]
  },
  {
   "cell_type": "code",
   "execution_count": 19,
   "id": "b937e96d",
   "metadata": {
    "pycharm": {
     "name": "#%%\n"
    }
   },
   "outputs": [
    {
     "data": {
      "text/plain": [
       "{'name': 'POI_1',\n",
       " 'type': 'cumulative',\n",
       " 'volume': 0.0,\n",
       " 'dose_units': 'Gy',\n",
       " 'doses': [0.0],\n",
       " 'volume_units': 'cm3',\n",
       " 'volumes': [0.0]}"
      ]
     },
     "execution_count": 19,
     "metadata": {},
     "output_type": "execute_result"
    }
   ],
   "source": [
    "structure_bytes = util.dicom_dataset_to_bytes(structure)\n",
    "dose_bytes = util.dicom_dataset_to_bytes(dose)\n",
    "response = requests.post(f'{URL}/dvh', files={'file_struct': structure_bytes, 'file_dose': dose_bytes})\n",
    "response.json()[0]"
   ]
  },
  {
   "cell_type": "code",
   "execution_count": 20,
   "id": "129ed935",
   "metadata": {
    "pycharm": {
     "name": "#%%\n"
    }
   },
   "outputs": [
    {
     "data": {
      "image/png": "[encoded data removed]",
      "text/plain": [
       "<Figure size 432x288 with 1 Axes>"
      ]
     },
     "metadata": {
      "needs_background": "light"
     },
     "output_type": "display_data"
    }
   ],
   "source": [
    "dvhs = response.json()\n",
    "plt.plot(dvhs[1]['volumes'], dvhs[1]['doses'])\n",
    "plt.show()\n"
   ]
  }
 ],
 "metadata": {
  "celltoolbar": "Diaporama",
  "kernelspec": {
   "display_name": "Python 3 (ipykernel)",
   "language": "python",
   "name": "python3"
  },
  "language_info": {
   "codemirror_mode": {
    "name": "ipython",
    "version": 3
   },
   "file_extension": ".py",
   "mimetype": "text/x-python",
   "name": "python",
   "nbconvert_exporter": "python",
   "pygments_lexer": "ipython3",
   "version": "3.10.2"
  },
  "rise": {
   "height": "90%",
   "width": "90%"
  }
 },
 "nbformat": 4,
 "nbformat_minor": 5
}
