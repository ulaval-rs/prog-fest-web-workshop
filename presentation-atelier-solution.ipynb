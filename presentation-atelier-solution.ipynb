{
 "cells": [
  {
   "cell_type": "code",
   "execution_count": 1,
   "id": "1e1ab997",
   "metadata": {},
   "outputs": [],
   "source": [
    "import io\n",
    "from pprint import pprint\n",
    "\n",
    "import requests\n",
    "\n",
    "import pydicom\n",
    "import matplotlib.pyplot as plt\n",
    "from pydicom import uid\n",
    "from pydicom.filebase import DicomFileLike\n",
    "from matplotlib.image import imread\n",
    "\n",
    "\n",
    "def read_dicom_dataset(raw_data: bytes) -> pydicom.Dataset:\n",
    "    \"\"\"Permet de lire les bytes d'un fichier DICOM et le transformer en Dataset DICOM\"\"\"\n",
    "    instance_uid = uid.generate_uid()\n",
    "    buffer = io.BytesIO(raw_data)\n",
    "    ds = pydicom.dcmread(buffer)\n",
    "\n",
    "    return ds\n",
    "\n",
    "\n",
    "def dicom_dataset_to_bytes(ds: pydicom.Dataset) -> io.BytesIO:\n",
    "    \"\"\"Permet d'écrire un Dataset DICOM en bytes\"\"\"\n",
    "    buffer = io.BytesIO()\n",
    "    memory_dataset = DicomFileLike(buffer)\n",
    "    pydicom.dcmwrite(memory_dataset, ds)\n",
    "    memory_dataset.seek(0)\n",
    "\n",
    "    return buffer\n",
    "\n",
    "\n",
    "def show_image_from_bytes(raw_data: bytes) -> None:\n",
    "    buffer = io.BytesIO(raw_data)\n",
    "    img = imread(buffer, format='png')\n",
    "\n",
    "    plt.figure(figsize=(16, 12))\n",
    "    plt.imshow(img)\n",
    "    plt.axis('off')\n",
    "    plt.show()\n",
    "\n",
    "\n",
    "URL = 'http://172.17.0.2:5000'"
   ]
  },
  {
   "cell_type": "markdown",
   "id": "cb5c21e9",
   "metadata": {
    "slideshow": {
     "slide_type": "slide"
    }
   },
   "source": [
    "# <center>API REST : accéder à des données et des fonctionnalités via le web</center>\n",
    "\n",
    "<br>\n",
    "<center>Gabriel Couture, Félix-Antoine Fortin, Olivier Chouinard-Banville</center>"
   ]
  },
  {
   "cell_type": "markdown",
   "id": "e0d9d53c",
   "metadata": {
    "slideshow": {
     "slide_type": "slide"
    }
   },
   "source": [
    "## Mise en situation\n",
    "\n",
    "- Vous êtes un stagiaire en physique médiale\n",
    "- Vous devez évaluer la qualité de traitements de radiothérapie\n",
    "- Pour ce faire : nous utilisons les histogrammes dose-volume (DVH)"
   ]
  },
  {
   "cell_type": "markdown",
   "id": "4bc0d2c9",
   "metadata": {
    "slideshow": {
     "slide_type": "slide"
    }
   },
   "source": [
    "## Radiothérapie : cours express\n",
    "\n",
    "<br>\n",
    "<center><img src=\"./imgs/flot-radiotherapie.png\" style=\"width: 700px;\"></center>\n",
    "<br>\n",
    "<center><img src=\"./imgs/radiotherapy.png\" style=\"width: 500px;\"></center>"
   ]
  },
  {
   "cell_type": "markdown",
   "id": "5d81dc49",
   "metadata": {
    "slideshow": {
     "slide_type": "slide"
    }
   },
   "source": [
    "## Radiothérapie : images\n",
    "Acquisition d'images (ex. CT)\n",
    "\n",
    "<br>\n",
    "<center><img src=\"./imgs/phantom-thorax.png\" style=\"width: 300px;\"></center>"
   ]
  },
  {
   "cell_type": "markdown",
   "id": "be6d4de6",
   "metadata": {
    "slideshow": {
     "slide_type": "slide"
    }
   },
   "source": [
    "## Radiothérapie : contours\n",
    "- Tracé de structure (organes/région d'intérêt)\n",
    "\n",
    "<table border=\"0\">\n",
    " <tr>\n",
    "    <td><img src=\"./imgs/contours.png\" style=\"height: 300px;\"></td>\n",
    "    <td><img src=\"./imgs/structure.png\" style=\"height: 300px;\"></td>\n",
    " </tr>\n",
    "</table>"
   ]
  },
  {
   "cell_type": "markdown",
   "id": "bbb5e498",
   "metadata": {
    "slideshow": {
     "slide_type": "slide"
    }
   },
   "source": [
    "## Radiothérapie : cours express\n",
    "- Planification de la dose\n",
    "\n",
    "<center><img src=\"./imgs/dose-distribution.png\" style=\"width: 600px;\"></center>"
   ]
  },
  {
   "cell_type": "markdown",
   "id": "07d7c9a6",
   "metadata": {
    "slideshow": {
     "slide_type": "slide"
    }
   },
   "source": [
    "## Radiothérapie : cours express\n",
    "- Données impliquées\n",
    "    - Images CT\n",
    "        - Fichier DICOM de type \"__CT__\"\n",
    "    - Structure (région/organe dessiné)\n",
    "        - Fichier DICOM de type \"__RTStruct__\"\n",
    "    - Carte de dose (array en 3D de la dose délivrée)\n",
    "        - Fichier DICOM de type \"__RTDose__\"\n",
    "<center><img src=\"./imgs/ct-struct-dose.gif\" style=\"width: 100%;\"></center>"
   ]
  },
  {
   "cell_type": "markdown",
   "id": "a3edea55",
   "metadata": {
    "slideshow": {
     "slide_type": "slide"
    }
   },
   "source": [
    "## Comment évaluer la qualité du traitement?\n",
    "\n",
    "- Construire un histogramme dose-volume (DVH)!\n",
    "\n",
    "<center><img src=\"./imgs/dvh-process.png\" style=\"width: 600px;\"></center>\n",
    "<center><img src=\"./imgs/dvh-diff-to-cumulative.png\" style=\"width: 600px;\"></center>"
   ]
  },
  {
   "cell_type": "markdown",
   "id": "2c22cf4c",
   "metadata": {
    "slideshow": {
     "slide_type": "slide"
    }
   },
   "source": [
    "## Résultat final : un DVH!\n",
    "- ~100% de la cible reçoit la dose de prescription\n",
    "- Organes sensibles épargnés autant que possible\n",
    "\n",
    "<br>\n",
    "<center><img src=\"./imgs/dvh-exemple.png\" style=\"width: 700px;\"></center>"
   ]
  },
  {
   "cell_type": "markdown",
   "id": "357bfb5a",
   "metadata": {
    "slideshow": {
     "slide_type": "slide"
    }
   },
   "source": [
    "## Atelier : ce qui est à faire\n",
    "\n",
    "- Une API REST vous est mise à disposition. À partir de celle-ci, vous pourrez :\n",
    "    - Récupérer des données\n",
    "    - Anonymiser des données\n",
    "    - Calculer des DVH\n",
    "    - Et plus!\n",
    "\n",
    "<center><img src=\"./imgs/atelier.png\" style=\"width: 1200px;\"></center>"
   ]
  },
  {
   "cell_type": "markdown",
   "id": "b7d65969",
   "metadata": {
    "slideshow": {
     "slide_type": "slide"
    }
   },
   "source": [
    "## Données à manipuler\n",
    "\n",
    "- 3 fichiers RTStruct (cylindre, shpère, cone)\n",
    "- 1 fichier RTDose\n",
    "<table border=\"0\">\n",
    " <tr>\n",
    "    <td><img src=\"./imgs/cylinder.png\" style=\"height: 250px;\"></td>\n",
    "    <td><img src=\"./imgs/sphere.png\" style=\"height: 250px;\"></td>\n",
    "    <td><img src=\"./imgs/cone.png\" style=\"height: 250px;\"></td>\n",
    "    <td><img src=\"./imgs/dose-workflow.png\" style=\"height: 250px;\"></td>\n",
    " </tr>\n",
    "</table>\n",
    "Source : https://doi.org/10.1118/1.4923175"
   ]
  },
  {
   "cell_type": "markdown",
   "id": "e823be67",
   "metadata": {
    "slideshow": {
     "slide_type": "slide"
    }
   },
   "source": [
    "## Librairie Python `requests`\n",
    "\n",
    "```python\n",
    "response = requests.get(url='http://<url>/<route>', params={'key': 'value'})\n",
    "response = requests.post(\n",
    "    url='http://<url>/<route>',\n",
    "    data={'key': 'value'},          # Pour les valeurs (str, float ou int)\n",
    "    files={'key': bytes},           # Pour des fichiers (sous forme de bytes)\n",
    "    json={'key': {'key': 'value'}}) # Pour des dictionnaires ou listes\n",
    "response = requests.put(\n",
    "    url='http://<url>/<route>',\n",
    "    data={'key': 'value'},           # ...\n",
    "    files={'key': bytes},            # ...\n",
    "    json={'key': {'key': 'value'}})  # ...\n",
    "response = requests.delete(url='http://<url>/<route>', params={'key': 'value'})\n",
    "```"
   ]
  },
  {
   "cell_type": "markdown",
   "id": "ae2b77e4",
   "metadata": {
    "slideshow": {
     "slide_type": "slide"
    }
   },
   "source": [
    "## Valider la connexion\n",
    "\n",
    "- Validez d'abord que vous pouvez interagir avec l'API REST."
   ]
  },
  {
   "cell_type": "code",
   "execution_count": 2,
   "id": "5b3b2bd1",
   "metadata": {
    "slideshow": {
     "slide_type": "-"
    }
   },
   "outputs": [
    {
     "name": "stdout",
     "output_type": "stream",
     "text": [
      "200\n",
      "{'message': \"Bonjour et bienvenue à l'atelier sur les API REST!\"}\n"
     ]
    }
   ],
   "source": [
    "response = requests.get(f'{URL}')\n",
    "print(response.status_code)\n",
    "pprint(response.json())"
   ]
  },
  {
   "cell_type": "markdown",
   "id": "c251f711",
   "metadata": {
    "pycharm": {
     "name": "#%% md\n"
    },
    "slideshow": {
     "slide_type": "slide"
    }
   },
   "source": [
    "## 1. Création d'un compte\n",
    "- Créez d'abord votre compte\n",
    "- Pour créer un compte, faîtes un POST avec votre idul à la route `http://URL/account`\n",
    "    - Vous pouvez soumettre votre idul de cette façon : `{'idul': 'votre-idul'}`"
   ]
  },
  {
   "cell_type": "code",
   "execution_count": 31,
   "id": "9f6f84e5",
   "metadata": {
    "pycharm": {
     "name": "#%%\n"
    },
    "slideshow": {
     "slide_type": "fragment"
    }
   },
   "outputs": [
    {
     "name": "stdout",
     "output_type": "stream",
     "text": [
      "201\n",
      "{'message': 'created'}\n"
     ]
    }
   ],
   "source": [
    "response = requests.post(f'{URL}/account', data={'idul': 'gacou42'})\n",
    "print(response.status_code)\n",
    "print(response.json())"
   ]
  },
  {
   "cell_type": "markdown",
   "id": "6fa66810",
   "metadata": {
    "slideshow": {
     "slide_type": "slide"
    }
   },
   "source": [
    "## 2. Authentification\n",
    "\n",
    "- Vous avez maintenant un compte, utilisez votre IDUL pour vous connecter!\n",
    "- La route de l'API REST qui vous permet d'émettre un jeton d'authentification est `http://URL/auth`\n",
    "- Soumettez votre idul via un POST afin d'émettre un jeton (token)\n",
    "- Ce jeton vous permettra valider votre identiter par la suite"
   ]
  },
  {
   "cell_type": "code",
   "execution_count": 32,
   "id": "ac845f68",
   "metadata": {
    "scrolled": true,
    "slideshow": {
     "slide_type": "fragment"
    }
   },
   "outputs": [
    {
     "name": "stdout",
     "output_type": "stream",
     "text": [
      "200\n",
      "{'token': 'e2a2f3d81a0de2ba37bb821c9e16c7960e21cf84'}\n"
     ]
    }
   ],
   "source": [
    "response = requests.post(f'{URL}/auth', data={'idul': 'gacou42'})\n",
    "print(response.status_code)\n",
    "print(response.json())"
   ]
  },
  {
   "cell_type": "markdown",
   "id": "c1e2d4af",
   "metadata": {
    "slideshow": {
     "slide_type": "slide"
    }
   },
   "source": [
    "## 3. Récupération des données\n",
    "- Les données sont sous le format DICOM\n",
    "- Vérifiez quelles données sont accessibles en les récupérant à `http://URL/data`\n",
    "- Pour calculer un DVH, vous aurez besoin de r"
   ]
  },
  {
   "cell_type": "code",
   "execution_count": 33,
   "id": "90167c4c",
   "metadata": {
    "slideshow": {
     "slide_type": "-"
    }
   },
   "outputs": [
    {
     "name": "stdout",
     "output_type": "stream",
     "text": [
      "['sphere', 'cylinder', 'cone', 'dose']\n"
     ]
    }
   ],
   "source": [
    "TOKEN = 'e2a2f3d81a0de2ba37bb821c9e16c7960e21cf84'\n",
    "\n",
    "response = requests.get(f'{URL}/data', params={'token': TOKEN})\n",
    "print(response.json())"
   ]
  },
  {
   "cell_type": "code",
   "execution_count": 41,
   "id": "4f518587",
   "metadata": {
    "slideshow": {
     "slide_type": "-"
    }
   },
   "outputs": [
    {
     "name": "stdout",
     "output_type": "stream",
     "text": [
      "RTSTRUCT Gabriel Couture\n",
      "RTSTRUCT Gabriel Couture\n",
      "RTSTRUCT Gabriel Couture\n",
      "RTDOSE Gabriel Couture\n"
     ]
    }
   ],
   "source": [
    "response = requests.get(f'{URL}/data/sphere', params={'token': TOKEN})\n",
    "sphere = util.read_dicom_dataset(response.content)\n",
    "print(sphere.Modality, sphere.PatientName)\n",
    "\n",
    "response = requests.get(f'{URL}/data/cylinder', params={'token': TOKEN})\n",
    "cylinder = util.read_dicom_dataset(response.content)\n",
    "print(cylinder.Modality, cylinder.PatientName)\n",
    "\n",
    "response = requests.get(f'{URL}/data/cone', params={'token': TOKEN})\n",
    "cone = util.read_dicom_dataset(response.content)\n",
    "print(cone.Modality, cone.PatientName)\n",
    "\n",
    "response = requests.get(f'{URL}/data/dose', params={'token': TOKEN})\n",
    "dose = util.read_dicom_dataset(response.content)\n",
    "print(dose.Modality, dose.PatientName)"
   ]
  },
  {
   "cell_type": "markdown",
   "id": "b1622655",
   "metadata": {
    "slideshow": {
     "slide_type": "slide"
    }
   },
   "source": [
    "## 4. Anonymisation des données"
   ]
  },
  {
   "cell_type": "code",
   "execution_count": 35,
   "id": "68150129",
   "metadata": {},
   "outputs": [
    {
     "name": "stdout",
     "output_type": "stream",
     "text": [
      "^\n",
      "^\n",
      "^\n",
      "^\n"
     ]
    }
   ],
   "source": [
    "sphere_bytes = util.dicom_dataset_to_bytes(sphere)\n",
    "response = requests.post(f'{URL}/anonymize', files={'file': sphere_bytes})\n",
    "sphere = util.read_dicom_dataset(response.content)\n",
    "print(sphere.PatientName)\n",
    "\n",
    "cylinder_bytes = util.dicom_dataset_to_bytes(cylinder)\n",
    "response = requests.post(f'{URL}/anonymize', files={'file': cylinder_bytes})\n",
    "cylinder = util.read_dicom_dataset(response.content)\n",
    "print(cylinder.PatientName)\n",
    "\n",
    "cone_bytes = util.dicom_dataset_to_bytes(cone)\n",
    "response = requests.post(f'{URL}/anonymize', files={'file': cone_bytes})\n",
    "cone = util.read_dicom_dataset(response.content)\n",
    "print(cone.PatientName)\n",
    "\n",
    "dose_bytes = util.dicom_dataset_to_bytes(dose)\n",
    "response = requests.post(f'{URL}/anonymize', files={'file': dose_bytes})\n",
    "dose = util.read_dicom_dataset(response.content)\n",
    "print(dose.PatientName)"
   ]
  },
  {
   "cell_type": "markdown",
   "id": "e45a13d4",
   "metadata": {
    "pycharm": {
     "name": "#%% md\n"
    },
    "slideshow": {
     "slide_type": "slide"
    }
   },
   "source": [
    "## 5. Calcul des DVH\n",
    "\n",
    "- POST à `http://URL/dvh` avec les fichiers `file_struct` et `file_dose` en bytes (utilisez `util.dicom_dataset_to_bytes`)."
   ]
  },
  {
   "cell_type": "code",
   "execution_count": 45,
   "id": "b937e96d",
   "metadata": {
    "pycharm": {
     "name": "#%%\n"
    },
    "slideshow": {
     "slide_type": "-"
    }
   },
   "outputs": [],
   "source": [
    "dvhs = {}\n",
    "\n",
    "for name, struct in [('sphere', sphere), ('cylinder', cylinder), ('cone', cone)]:\n",
    "    response = requests.post(\n",
    "        f'{URL}/dvh',\n",
    "        files={\n",
    "            'file_struct': util.dicom_dataset_to_bytes(struct),\n",
    "            'file_dose': util.dicom_dataset_to_bytes(dose)}\n",
    "    )\n",
    "    dvhs[name] = response.json()"
   ]
  },
  {
   "cell_type": "markdown",
   "id": "8431deef",
   "metadata": {
    "slideshow": {
     "slide_type": "slide"
    }
   },
   "source": [
    "## 6. Graphique des DVH"
   ]
  },
  {
   "cell_type": "code",
   "execution_count": 37,
   "id": "129ed935",
   "metadata": {
    "pycharm": {
     "name": "#%%\n"
    },
    "slideshow": {
     "slide_type": "fragment"
    }
   },
   "outputs": [
    {
     "name": "stdout",
     "output_type": "stream",
     "text": [
      "200\n"
     ]
    },
    {
     "data": {
      "image/png": "[encoded data removed]",
      "text/plain": [
       "<Figure size 1152x864 with 1 Axes>"
      ]
     },
     "metadata": {
      "needs_background": "light"
     },
     "output_type": "display_data"
    }
   ],
   "source": [
    "formated_dvhs = []\n",
    "for name, dvh in dvhs.items():\n",
    "    formated_dvhs.append({\n",
    "        'name': name,\n",
    "        'volumes': dvh[1]['volumes'],\n",
    "        'doses': dvh[1]['doses'],\n",
    "        'volume_units': dvh[1]['volume_units'],\n",
    "        'dose_units': dvh[1]['dose_units']\n",
    "    })\n",
    "response = requests.post(\n",
    "    f'{URL}/dvh/plot',\n",
    "    json={'dvhs': formated_dvhs}\n",
    ")\n",
    "print(response.status_code)\n",
    "util.show_image_from_bytes(response.content)"
   ]
  }
 ],
 "metadata": {
  "celltoolbar": "Diaporama",
  "kernelspec": {
   "display_name": "Python 3 (ipykernel)",
   "language": "python",
   "name": "python3"
  },
  "language_info": {
   "codemirror_mode": {
    "name": "ipython",
    "version": 3
   },
   "file_extension": ".py",
   "mimetype": "text/x-python",
   "name": "python",
   "nbconvert_exporter": "python",
   "pygments_lexer": "ipython3",
   "version": "3.10.2"
  },
  "rise": {
   "height": "90%",
   "width": "90%"
  }
 },
 "nbformat": 4,
 "nbformat_minor": 5
}
