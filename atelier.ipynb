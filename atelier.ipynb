{
 "cells": [
  {
   "cell_type": "markdown",
   "id": "ccaa9f09",
   "metadata": {},
   "source": [
    "# API REST : accéder à des données et des fonctionnalités via le web\n",
    "\n",
    "\n",
    "Gabriel Couture, Félix-Antoine Fortin, Olivier Chouinard-Banville"
   ]
  },
  {
   "cell_type": "code",
   "execution_count": null,
   "id": "18915f1f",
   "metadata": {},
   "outputs": [],
   "source": [
    "import io\n",
    "import pydicom\n",
    "import matplotlib.pyplot as plt\n",
    "from pydicom.filebase import DicomFileLike\n",
    "from matplotlib.image import imread\n",
    "\n",
    "def read_dicom_dataset(raw_data: bytes) -> pydicom.Dataset:\n",
    "    \"\"\"Permet de lire les bytes d'un fichier DICOM et le transformer en Dataset DICOM\"\"\"\n",
    "    buffer = io.BytesIO(raw_data)\n",
    "    \n",
    "    return pydicom.dcmread(buffer)\n",
    "\n",
    "\n",
    "def dicom_dataset_to_bytes(ds: pydicom.Dataset) -> io.BytesIO:\n",
    "    \"\"\"Permet d'écrire un Dataset DICOM en bytes\"\"\"\n",
    "    buffer = io.BytesIO()\n",
    "    memory_dataset = DicomFileLike(buffer)\n",
    "    pydicom.dcmwrite(memory_dataset, ds)\n",
    "    memory_dataset.seek(0)\n",
    "\n",
    "    return buffer\n",
    "\n",
    "\n",
    "def show_image_from_bytes(raw_data: bytes):\n",
    "    buffer = io.BytesIO(raw_data)\n",
    "    img = imread(buffer, format='png')\n",
    "\n",
    "    plt.figure(figsize=(13, 10))\n",
    "    plt.imshow(img)\n",
    "    plt.axis('off')\n",
    "    plt.show()"
   ]
  },
  {
   "cell_type": "markdown",
   "id": "8ec44987",
   "metadata": {},
   "source": [
    "## Mise en situation\n",
    "\n",
    "- Vous êtes un stagiaire en physique médiale\n",
    "- Vous devez évaluer la qualité de traitements de radiothérapie\n",
    "- Pour ce faire : nous utilisons les histogrammes dose-volume (DVH)\n",
    "\n",
    "---\n",
    "\n",
    "## Radiothérapie : cours express\n",
    "Plusieurs étapes sont nécessaires afin d'administrer un traitement de radiothérapie.\n",
    "Lorsque qu'une tumeur est identifiée et qu'un traitement de radiothérapie est prescrit,\n",
    "il faut d'abord 1) faire l'acquisition d'image de la région de la tumeur, 2)\n",
    "tracer des contours afin de construire une structure en trois dimensions de la zone à\n",
    "irradier et des organes sensibles, 3) faire une planification de traitement, c'est-à-dire\n",
    "comment et où la dose sera délivrée (typiquement fait par un logiciel de planification de traitement), 4)\n",
    "valider le traitement qui vient d'être planifié.\n",
    "\n",
    "<br>\n",
    "<center><img src=\"https://raw.githubusercontent.com/ulaval-rs/prog-fest-web-workshop/main/imgs/flot-radiotherapie.png\" style=\"width: 700px;\"></center>\n",
    "<br>\n",
    "<center><img src=\"https://raw.githubusercontent.com/ulaval-rs/prog-fest-web-workshop/main/imgs/radiotherapy.png\" style=\"width: 400px;\"></center>\n",
    "\n",
    "\n",
    "#### Acquisition d'images (ex. CT)\n",
    "Il est d'abord nécessaire de faire l'acquisition d'images de la régions à traiter.\n",
    "\n",
    "<br>\n",
    "<center><img src=\"https://raw.githubusercontent.com/ulaval-rs/prog-fest-web-workshop/main/imgs/phantom-thorax.png\" style=\"width: 300px;\"></center>\n",
    "\n",
    "\n",
    "#### Tracé de structure (organes/région d'intérêt)\n",
    "Une fois que les images obtenues, un radio-oncologue vient tracer des contours sur (presque) toutes les images.\n",
    "Les tracés, une fois recombinées, forme une structure en 3D.\n",
    "\n",
    "<br>\n",
    "<table border=\"0\">\n",
    " <tr>\n",
    "    <td><img src=\"https://raw.githubusercontent.com/ulaval-rs/prog-fest-web-workshop/main/imgs/contours.png\" style=\"height: 250px;\"></td>\n",
    "    <td><img src=\"https://raw.githubusercontent.com/ulaval-rs/prog-fest-web-workshop/main/imgs/structure.png\" style=\"height: 250px;\"></td>\n",
    " </tr>\n",
    "</table>\n",
    "\n",
    "    \n",
    "#### Planification de la dose\n",
    "Vient ensuite la planification de la dose à délivrer. Celle-ci est fait grâce à un logiciel de planification\n",
    "de traitement. Le résultat est une grille de dose (une matrice en 3D, où chaque point est une valeur de dose en Gray, unité de mesure de la dose absorbée).\n",
    "On voit ici une tranche de la matrice de dose superposée à un contour.\n",
    "\n",
    "<br>\n",
    "<center><img src=\"https://raw.githubusercontent.com/ulaval-rs/prog-fest-web-workshop/main/imgs/dose-distribution.png\" style=\"height: 200px;\"></center>\n",
    "\n",
    "#### Données impliquées\n",
    "Le processus créée plusieurs fichiers, tous sous le format __DICOM__.\n",
    "Le format DICOM est un format spécialisé utilisé en physique médicale et en imagerie médicale.\n",
    "\n",
    "Voici une représentation du contenu dans 3 de ces fichiers DICOM :\n",
    "- Images CT\n",
    "    - Fichier DICOM de type \"__CT__\"\n",
    "- Structure (région/organe dessiné)\n",
    "    - Fichier DICOM de type \"__RTStruct__\"\n",
    "- Carte de dose (array en 3D de la dose délivrée)\n",
    "    - Fichier DICOM de type \"__RTDose__\"\n",
    "\n",
    "<br>\n",
    "<center><img src=\"https://raw.githubusercontent.com/ulaval-rs/prog-fest-web-workshop/main/imgs/ct-struct-dose.gif\" style=\"width: 100%;\"></center>\n",
    "\n",
    "\n",
    "## Comment évaluer la qualité du traitement?\n",
    "\n",
    "Évaluer la qualité d'un traitement de radiothérapie est un aspect fondammental du domaine.\n",
    "Pour ce faire, les histogrammes dose-volume (__DVH__) sont utilisés.\n",
    "\n",
    "Il est possible de construire un DVH avec les fichiers DICOM RTStruct et RTDose. \n",
    "En effet, il suffit d'abord de superposer la matrice de dose planifiée aux structures.\n",
    "Par cette superposition, il est possible de prendre les point de la matrice de dose qui entre dans\n",
    "les structures, et d'en faire un histogramme, comme montré ci-dessous.\n",
    "<br>\n",
    "\n",
    "<center><img src=\"https://raw.githubusercontent.com/ulaval-rs/prog-fest-web-workshop/main/imgs/dvh-process.png\" style=\"height: 300px;\"></center>\n",
    "<center><img src=\"https://raw.githubusercontent.com/ulaval-rs/prog-fest-web-workshop/main/imgs/dvh-diff-to-cumulative.png\" style=\"height: 250px;\"></center>\n",
    "\n",
    "## Résultat final : un DVH!\n",
    "\n",
    "Voici un exemple de DVH. On peut voir quelles structures ont reçu le plus de dose.\n",
    "On voit que la structure _cible_ (la tumeur) a reçue, sur plus de 100% de son volume, au moins 51 Gy,\n",
    "qui correspond à la dose prescripte. On voit aussi que les structure sensibles, soit les\n",
    "poumons, ont reçu moins de dose. \n",
    "\n",
    "Un bon traitement de radiothérapie irradie 100% du volume de la tumeur avec au moins la dose de prescription, et épargne le plus possible les structures sensibles.\n",
    "\n",
    "<br>\n",
    "<center><img src=\"https://raw.githubusercontent.com/ulaval-rs/prog-fest-web-workshop/main/imgs/dvh-exemple.png\" style=\"width: 550px;\"></center>\n",
    "\n",
    "---"
   ]
  },
  {
   "cell_type": "markdown",
   "id": "b79e520c",
   "metadata": {},
   "source": [
    "# Atelier : ce qui est à faire\n",
    "\n",
    "- L'objectif de l'atelier est de vous permettre de comprendre comment utiliser une API REST.\n",
    "\n",
    "    \n",
    "- À cet fin, une API REST vous est mise à disposition\n",
    "    - Elle expose des données au format DICOM, des fonctions de calcul de DVH et plus!\n",
    "\n",
    "\n",
    "- Voici ce que vous devrez faire\n",
    "    - Toutes ces étapes seront faites avec des requêtes HTTP avec la librairie Python `requests`.\n",
    "<center><img src=\"https://raw.githubusercontent.com/ulaval-rs/prog-fest-web-workshop/main/imgs/atelier.png\" style=\"width: 1200px;\"></center>\n",
    "\n",
    "## Données à manipuler\n",
    "\n",
    "- 3 fichiers DICOM RTStruct (un cylindre, une sphère et un cone)\n",
    "- 1 fichier DICOM RTDose (la matrice en 3D des valeurs de dose)\n",
    "<table border=\"0\">\n",
    " <tr>\n",
    "    <td><img src=\"https://raw.githubusercontent.com/ulaval-rs/prog-fest-web-workshop/main/imgs/cylinder.png\" style=\"height: 250px;\"></td>\n",
    "    <td><img src=\"https://raw.githubusercontent.com/ulaval-rs/prog-fest-web-workshop/main/imgs/sphere.png\" style=\"height: 250px;\"></td>\n",
    "    <td><img src=\"https://raw.githubusercontent.com/ulaval-rs/prog-fest-web-workshop/main/imgs/cone.png\" style=\"height: 250px;\"></td>\n",
    "    <td><img src=\"https://raw.githubusercontent.com/ulaval-rs/prog-fest-web-workshop/main/imgs/dose-workflow.png\" style=\"height: 250px;\"></td>\n",
    " </tr>\n",
    "</table>\n",
    "Source : https://doi.org/10.1118/1.4923175\n",
    "\n",
    "---\n",
    "\n",
    "# Informations utiles\n",
    "### Librairie Python `requests`\n",
    " \n",
    "```python\n",
    "# GET\n",
    "response = requests.get(url='http://<url>/<route>', params={'key': 'value'})\n",
    "\n",
    "# POST\n",
    "response = requests.post(\n",
    "    url='http://<url>/<route>',\n",
    "    data={'key': 'value'},          # Pour les valeurs (str, float ou int)\n",
    "    files={'key': file_bytes},      # Pour des fichiers (sous forme de bytes)\n",
    "    json={'key': {'key': 'value'}}) # Pour des dictionnaires ou listes\n",
    "\n",
    "# PUT\n",
    "response = requests.put(\n",
    "    url='http://<url>/<route>',\n",
    "    data={'key': 'value'},           # ...\n",
    "    files={'key': file_bytes},       # ...\n",
    "    json={'key': {'key': 'value'}})  # ...\n",
    "\n",
    "# DELETE\n",
    "response = requests.delete(url='http://<url>/<route>', params={'key': 'value'})\n",
    "```"
   ]
  },
  {
   "cell_type": "markdown",
   "id": "f5f15667",
   "metadata": {},
   "source": [
    "## 0. Valider la connexion\n",
    "\n",
    "- Validez d'abord que vous pouvez interagir avec l'API REST."
   ]
  },
  {
   "cell_type": "code",
   "execution_count": null,
   "id": "16747a11",
   "metadata": {
    "scrolled": true
   },
   "outputs": [],
   "source": [
    "import requests\n",
    "\n",
    "URL = 'https://progfest-rest.apps.valeria.science'\n",
    "\n",
    "response = requests.get(f'{URL}')\n",
    "print(response.status_code)\n",
    "print(response.json())"
   ]
  },
  {
   "cell_type": "markdown",
   "id": "8f0e3521",
   "metadata": {},
   "source": [
    "## 1. Création d'un compte\n",
    "- Pour créer un compte, soumetter votre IDUL via un POST à l'adresse `http://<url>/account`.\n",
    "    - Dans le cadre de cet atelier, vous n'aurez pas besoin de mot de passe.\n",
    "    - Vous pouvez soumettre votre idul de cette façon : \n",
    "        ```python\n",
    "        response = resquests.post(\n",
    "            url='http://<url>/account',\n",
    "            data={'idul': 'votre-idul'}\n",
    "        )\n",
    "        ```\n",
    "- Regardez le code HTTP (`response.status_code`) ainsi que le message (`response.text` ou `response.json()`)."
   ]
  },
  {
   "cell_type": "code",
   "execution_count": null,
   "id": "00709c54",
   "metadata": {},
   "outputs": [],
   "source": []
  },
  {
   "cell_type": "markdown",
   "id": "03215a21",
   "metadata": {},
   "source": [
    "## 2. Authentification\n",
    "\n",
    "- Génial, vous avez maintenant un compte!\n",
    "- Ce n'est pas n'importe qui qui peut accéder des données médicales. Pour pouvoir les récupérer, vous devez être identifié.\n",
    "- Pour l'identification, il est commun que les API REST utilisent un jeton, ou `token` en anglais.\n",
    "\n",
    "- Pour récupérer un token (donc s'identifier), faites un POST à l'adresse `http://<url>/auth`, tout en fournissant votre IDUL, comme à la création du compte.\n",
    "- Observez la réponse, votre `token` devrait s'y trouver!"
   ]
  },
  {
   "cell_type": "code",
   "execution_count": null,
   "id": "a483ccfb",
   "metadata": {},
   "outputs": [],
   "source": []
  },
  {
   "cell_type": "markdown",
   "id": "aff74e62",
   "metadata": {},
   "source": [
    "## 3. Récupération des données\n",
    "\n",
    "- Vous avez maintenant votre `token` pour vous authentifier, il est désormais possible de récupérer les données.\n",
    "- L'adresse où les données sont accessibles est `http://<url>/data`.\n",
    "- Faites un GET, avec votre token en paramètre (`params={'token': '<votre-token>'}`) pour vérifier quelles données sont accessibles."
   ]
  },
  {
   "cell_type": "code",
   "execution_count": null,
   "id": "b76008a4",
   "metadata": {},
   "outputs": [],
   "source": []
  },
  {
   "cell_type": "markdown",
   "id": "3dc7625f",
   "metadata": {},
   "source": [
    "- Vous devriez observer 4 noms de donnée. Chacune d'entre elles correspond à un fichier DICOM de structure (RTStruct), ou de dose (RTDose).\n",
    "- Pour les récupérer, faites un GET à `http://<url>/data/<nom-donnée>`, toujours en ayant votre token en paramètre.\n",
    "- Remarquez que le contenu de la réponse est un fichier binaire (`response.content`).\n",
    "    - On ne peut évidemment pas le lire en tant que texte ou JSON. Une fonction vous est fournie pour lire ce contenu et le transformer en `Dataset` (format pour manipuler des fichiers DICOM) : \n",
    "        - `dataset = read_dicom_dataset(response.content)`\n",
    "\n",
    "\n",
    "- Récupérer les 4 fichiers DICOM, et transformez les tous en `Dataset`."
   ]
  },
  {
   "cell_type": "code",
   "execution_count": null,
   "id": "4a28730b",
   "metadata": {},
   "outputs": [],
   "source": []
  },
  {
   "cell_type": "markdown",
   "id": "58b09c9e",
   "metadata": {},
   "source": [
    "- Maintenant que vous avez les 4 `Dataset`, vérifiez s'ils contiennent des informations personnelles.\n",
    "    - Observez l'attribut `dataset.PatientName` pour voir s'il contient un nom personnel."
   ]
  },
  {
   "cell_type": "code",
   "execution_count": null,
   "id": "c1981e6f",
   "metadata": {},
   "outputs": [],
   "source": []
  },
  {
   "cell_type": "markdown",
   "id": "11bd46ff",
   "metadata": {},
   "source": [
    "## 4. Anonymisation des données\n",
    "- En santé, il est important de manipuler des données anonymes lors des activités de recherche.\n",
    "- Il est donc nécessaire d'anonymiser vos données.\n",
    "- Pour anonymisé un `Dataset`\n",
    "    1. Transformez le en `bytes` avec la fonction `dataset_bytes = dicom_dataset_to_bytes(dataset)`\n",
    "    2. Faire un POST à `http://<url>/anonymize` avec le dataset en bytes en tant que fichier\n",
    "        - `requests.post(..., files={'file': dataset_bytes})`\n",
    "    3. Récupérer la réponse et transformez la en dataset (`dataset = read_dicom_dataset(response.content)`)\n",
    "    \n",
    "    \n",
    "- Faites cet exercise pour vos 4 `Dataset`"
   ]
  },
  {
   "cell_type": "code",
   "execution_count": null,
   "id": "2b5fcef1",
   "metadata": {},
   "outputs": [],
   "source": []
  },
  {
   "cell_type": "markdown",
   "id": "aa2591e8",
   "metadata": {},
   "source": [
    "- Vérifiez si les `Dataset` ont toujours de l'informations personnelles (`dataset.PatientName`)."
   ]
  },
  {
   "cell_type": "code",
   "execution_count": null,
   "id": "a16f3d38",
   "metadata": {},
   "outputs": [],
   "source": []
  },
  {
   "cell_type": "markdown",
   "id": "4c3e1c3b",
   "metadata": {},
   "source": [
    "## 5. Calculer des DVH\n",
    "\n",
    "- Maintenant que vous avez des données anonymes, vous pouvez obtenir les DVH.\n",
    "- Pour chaque structure :\n",
    "    1. Transformez les datasets de structure et de dose en `bytes` avec la fonction `dicom_dataset_to_bytes`\n",
    "    2. Faites un POST à `http://<url>/dvh`, les dataset en bytes en tant que fichiers `files={'file_struct': struct_bytes, 'file_dose': dose_bytes}`\n",
    "    3. Récupérez les réponses sous le format JSON (`response.json()`)."
   ]
  },
  {
   "cell_type": "code",
   "execution_count": null,
   "id": "4c9aed90",
   "metadata": {},
   "outputs": [],
   "source": []
  },
  {
   "cell_type": "markdown",
   "id": "3d5187a9",
   "metadata": {},
   "source": [
    "## 6. Tracer des DVH\n",
    "\n",
    "- Maintenant que vous avez les données des DVH, vous pouvez tracer un graphique.\n",
    "- Pour ce faire, faites un POST à `http://<url>/dvh/plot`.\n",
    "- Le post doit contenir les informations suivantes :\n",
    "```python\n",
    "requests.post(\n",
    "    ...,\n",
    "    json={\n",
    "        'dvhs': [\n",
    "            {'name': ..., 'volumes': ..., 'doses': ..., 'volume_units': ..., 'dose_units': ...},\n",
    "            {'name': ..., 'volumes': ..., 'doses': ..., 'volume_units': ..., 'dose_units': ...}\n",
    "            ...\n",
    "        ]\n",
    "    }\n",
    ")\n",
    "```"
   ]
  },
  {
   "cell_type": "code",
   "execution_count": null,
   "id": "e6c158e8",
   "metadata": {},
   "outputs": [],
   "source": []
  },
  {
   "cell_type": "markdown",
   "id": "5410cf4e",
   "metadata": {},
   "source": [
    "- Le contenu de la réponse est une image `.png` des DVH. Vous pouvez l'afficher avec la fonction `show_image_from_bytes(response.content)`. "
   ]
  },
  {
   "cell_type": "code",
   "execution_count": null,
   "id": "32af687b",
   "metadata": {},
   "outputs": [],
   "source": []
  },
  {
   "cell_type": "markdown",
   "id": "b0813c4c",
   "metadata": {},
   "source": [
    "## Félicitations, vous avez obtenu des DVH!\n",
    "\n",
    "- Maintenant que vous savez manipuler une API REST, vous pouvez allez voir comment en faire une. \n",
    "    - La librairie utilisée pour construire l'API REST utilisée dans cet atelier est celle-ci https://flask-restful.readthedocs.io/en/latest/quickstart.html.\n",
    "    - L'API REST utilisée dans cet atelier se trouve ici : https://github.com/ulaval-rs/prog-fest-web-workshop/blob/main/api/app.py.\n"
   ]
  }
 ],
 "metadata": {
  "kernelspec": {
   "display_name": "Python 3 (ipykernel)",
   "language": "python",
   "name": "python3"
  },
  "language_info": {
   "codemirror_mode": {
    "name": "ipython",
    "version": 3
   },
   "file_extension": ".py",
   "mimetype": "text/x-python",
   "name": "python",
   "nbconvert_exporter": "python",
   "pygments_lexer": "ipython3",
   "version": "3.10.2"
  }
 },
 "nbformat": 4,
 "nbformat_minor": 5
}
