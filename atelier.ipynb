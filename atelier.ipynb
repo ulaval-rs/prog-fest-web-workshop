{
 "cells": [
  {
   "cell_type": "markdown",
   "id": "56be1277",
   "metadata": {},
   "source": [
    "# API REST : accéder à des données et des fonctionnalités via le web\n",
    "\n",
    "\n",
    "Gabriel Couture, Félix-Antoine Fortin, Olivier Chouinard-Banville"
   ]
  },
  {
   "cell_type": "code",
   "execution_count": 6,
   "id": "e1ef5aca",
   "metadata": {},
   "outputs": [],
   "source": [
    "import io\n",
    "\n",
    "import pydicom\n",
    "import matplotlib.pyplot as plt\n",
    "from pydicom import uid\n",
    "from pydicom.filebase import DicomFileLike\n",
    "from matplotlib.image import imread\n",
    "\n",
    "\n",
    "def read_dicom_dataset(raw_data: bytes) -> pydicom.Dataset:\n",
    "    \"\"\"Permet de lire les bytes d'un fichier DICOM et le transformer en Dataset DICOM\"\"\"\n",
    "    instance_uid = uid.generate_uid()\n",
    "    buffer = io.BytesIO(raw_data)\n",
    "    ds = pydicom.dcmread(buffer)\n",
    "\n",
    "    return ds\n",
    "\n",
    "\n",
    "def dicom_dataset_to_bytes(ds: pydicom.Dataset) -> io.BytesIO:\n",
    "    \"\"\"Permet d'écrire un Dataset DICOM en bytes\"\"\"\n",
    "    buffer = io.BytesIO()\n",
    "    memory_dataset = DicomFileLike(buffer)\n",
    "    pydicom.dcmwrite(memory_dataset, ds)\n",
    "    memory_dataset.seek(0)\n",
    "\n",
    "    return buffer\n",
    "\n",
    "\n",
    "def show_image_from_bytes(raw_data: bytes) -> None:\n",
    "    buffer = io.BytesIO(raw_data)\n",
    "    img = imread(buffer, format='png')\n",
    "\n",
    "    plt.figure(figsize=(16, 12))\n",
    "    plt.imshow(img)\n",
    "    plt.axis('off')\n",
    "    plt.show()\n",
    "\n",
    "\n",
    "URL = 'http://172.17.0.2:5000'"
   ]
  },
  {
   "cell_type": "markdown",
   "id": "a14a08ad",
   "metadata": {},
   "source": [
    "## Mise en situation\n",
    "\n",
    "- Vous êtes un stagiaire en physique médiale\n",
    "- Vous devez évaluer la qualité de traitements de radiothérapie\n",
    "- Pour ce faire : nous utilisons les histogrammes dose-volume (DVH)\n",
    "\n",
    "\n",
    "## Radiothérapie : cours express\n",
    "\n",
    "<center><img src=\"./imgs/flot-radiotherapie.png\" style=\"width: 700px;\"></center>\n",
    "<br>\n",
    "<center><img src=\"./imgs/radiotherapy.png\" style=\"width: 400px;\"></center>\n",
    "\n",
    "\n",
    "## Radiothérapie : images\n",
    "Acquisition d'images (ex. CT)\n",
    "<br>\n",
    "<center><img src=\"./imgs/phantom-thorax.png\" style=\"width: 300px;\"></center>\n",
    "\n",
    "\n",
    "## Radiothérapie : contours\n",
    "- Tracé de structure (organes/région d'intérêt)\n",
    "\n",
    "<table border=\"0\">\n",
    " <tr>\n",
    "    <td><img src=\"./imgs/contours.png\" style=\"height: 250px;\"></td>\n",
    "    <td><img src=\"./imgs/structure.png\" style=\"height: 250px;\"></td>\n",
    " </tr>\n",
    "</table>\n",
    "\n",
    "    \n",
    "## Radiothérapie : cours express\n",
    "- Planification de la dose\n",
    "\n",
    "<center><img src=\"./imgs/dose-distribution.png\" style=\"height: 200px;\"></center>\n",
    "\n",
    "## Radiothérapie : cours express\n",
    "- Données impliquées\n",
    "    - Images CT\n",
    "    - Structure (région/organe dessiné)\n",
    "    - Carte de dose (array en 3D de la dose délivrée)\n",
    "<center><img src=\"./imgs/ct-struct-dose.gif\" style=\"width: 100%;\"></center>\n",
    "\n",
    "\n",
    "## Comment évaluer la qualité du traitement?\n",
    "\n",
    "- Construire un histogramme dose-volume (DVH)!\n",
    "\n",
    "<center><img src=\"./imgs/dvh-process.png\" style=\"height: 300px;\"></center>\n",
    "<center><img src=\"./imgs/dvh-diff-to-cumulative.png\" style=\"height: 250px;\"></center>\n",
    "\n",
    "## Résultat final : un DVH!\n",
    "<center><img src=\"./imgs/dvh-exemple.png\" style=\"width: 550px;\"></center>"
   ]
  },
  {
   "cell_type": "markdown",
   "id": "19a4fac7",
   "metadata": {},
   "source": [
    "# Atelier : ce qui est à faire\n",
    "\n",
    "- Une API REST vous est mise à disposition\n",
    "    - Elle expose des données, des fonctions de calcul de DVH et plus!\n",
    "\n",
    "<center><img src=\"./imgs/atelier.png\" style=\"width: 1200px;\"></center>\n",
    "\n",
    "## Données à manipuler\n",
    "\n",
    "- 3 fichiers DICOM RTStruct (cylindre, shpère, cone)\n",
    "- 1 fichier DICOM RTDose\n",
    "<table border=\"0\">\n",
    " <tr>\n",
    "    <td><img src=\"./imgs/cylinder.png\" style=\"height: 250px;\"></td>\n",
    "    <td><img src=\"./imgs/sphere.png\" style=\"height: 250px;\"></td>\n",
    "    <td><img src=\"./imgs/cone.png\" style=\"height: 250px;\"></td>\n",
    "    <td><img src=\"./imgs/dose-workflow.png\" style=\"height: 250px;\"></td>\n",
    " </tr>\n",
    "</table>\n",
    "Source : https://doi.org/10.1118/1.4923175\n",
    "\n",
    "\n",
    "# Informations utiles\n",
    "### Librairie Python `requests`\n",
    " \n",
    "```python\n",
    "requests.get(url='http://<url>/<route>', params={'key': 'value'})\n",
    "\n",
    "requests.post(url='http://<url>/<route>',\n",
    "              data={'key': 'value'},          # Pour les valeurs (str, float ou int)\n",
    "              files={'key': file_bytes},      # Pour des fichiers (sous forme de bytes)\n",
    "              json={'key': {'key': 'value'}}) # Pour des dictionnaires ou listes\n",
    "\n",
    "requests.put(url='http://<url>/<route>',\n",
    "             data={'key': 'value'},           # ...\n",
    "             files={'key': file_bytes},       # ...\n",
    "             json={'key': {'key': 'value'}})  # ...\n",
    "\n",
    "requests.delete(url='http://<url>/<route>')\n",
    "```"
   ]
  },
  {
   "cell_type": "markdown",
   "id": "80a3e398",
   "metadata": {},
   "source": [
    "## Valider la connexion"
   ]
  },
  {
   "cell_type": "code",
   "execution_count": 5,
   "id": "ab29c7b9",
   "metadata": {},
   "outputs": [
    {
     "name": "stdout",
     "output_type": "stream",
     "text": [
      "Code HTTP: 200\n",
      "{'message': 'Bonjour et bienvenue au workshop sur le Web!'}\n"
     ]
    }
   ],
   "source": [
    "response = requests.get(f'{URL}')\n",
    "print('Code HTTP:', response.status_code)\n",
    "pprint(response.json())"
   ]
  },
  {
   "cell_type": "markdown",
   "id": "7a0c1441",
   "metadata": {},
   "source": [
    "## 1. Création d'un compte\n",
    "- Soumetter votre IDUL via un POST à l'adresse `http://<url>/account`.\n",
    "- Vous pouvez soumettre votre idul de cette façon : `{'idul': 'votre-idul'}`.\n",
    "- Regardez le code HTTP (`response.status_code`) ainsi que le message (`response.text` ou `response.json()`)."
   ]
  },
  {
   "cell_type": "code",
   "execution_count": null,
   "id": "262478fb",
   "metadata": {},
   "outputs": [],
   "source": []
  },
  {
   "cell_type": "markdown",
   "id": "82e95c87",
   "metadata": {},
   "source": [
    "## 2. Authentification\n",
    "\n",
    "- Génial! Vous avez maintenant un compte.\n",
    "- Ce n'est pas n'importe qui qui peut récupérer des données médicales. Pour pouvoir les récupérer, vous devez être identifié.\n",
    "- Pour l'identification, il est commun que les API REST utilise un jeton, ou `token` en anglais.\n",
    "\n",
    "- Pour récupérer un token (donc s'identifier), faîtes un POST à l'adresse `http://<url>/auth`, tout en fournissant votre IDUL, comme à la création du compte.\n",
    "- Observez la réponse, votre `token` devrait s'y trouver!"
   ]
  },
  {
   "cell_type": "code",
   "execution_count": null,
   "id": "5afacb51",
   "metadata": {},
   "outputs": [],
   "source": []
  },
  {
   "cell_type": "markdown",
   "id": "1a0f4efe",
   "metadata": {},
   "source": [
    "## 3. Récupération des données\n",
    "\n",
    "- Vous avez maintenant votre `token` pour vous authentifier, il est maintenant possible de récupérer les données.\n",
    "- L'adresse où les données sont accessibles est `http://<url>/data`.\n",
    "- Faîtes un GET, avec votre token en paramètre (`params={'token': '<votre-token>'}`) pour vérifier quelles données sont accessibles."
   ]
  },
  {
   "cell_type": "code",
   "execution_count": null,
   "id": "fadc3ac8",
   "metadata": {},
   "outputs": [],
   "source": []
  },
  {
   "cell_type": "markdown",
   "id": "9f96a03a",
   "metadata": {},
   "source": [
    "- Vous devriez observer 4 noms de donnée. Chacune d'entre elles correspondent à un fichier DICOM de structure (RTStruct), ou de dose (RTDose).\n",
    "- Pour les récupérer, faîtes un GET à `http://<url>/data/<nom-donnée>`, toujours en ayant votre token en paramètre.\n",
    "- Remarquez que le contenu de la réponse est un fichier binaire (`response.content`).\n",
    "    - On ne peut évidemment pas le lire en tant que texte ou JSON. Une fonction vous est fournie pour lire ce contenu et le transformer en `Dataset` (format pour manipuler des fichiers DICOM) : \n",
    "        - `dataset = read_dicom_dataset(response.content)`\n",
    "\n",
    "\n",
    "- Récupérer les 4 fichiers DICOM, et transformez les tous en `Dataset`."
   ]
  },
  {
   "cell_type": "code",
   "execution_count": null,
   "id": "21c9da09",
   "metadata": {},
   "outputs": [],
   "source": []
  },
  {
   "cell_type": "markdown",
   "id": "ecbf788f",
   "metadata": {},
   "source": [
    "- Maintenant que vous avez les 4 `Dataset`, vérifiez s'ils contiennent des informations personnelles.\n",
    "    - Observez l'attribut `dataset.PatientName` pour voir s'il contient un nom."
   ]
  },
  {
   "cell_type": "code",
   "execution_count": null,
   "id": "267959ad",
   "metadata": {},
   "outputs": [],
   "source": []
  },
  {
   "cell_type": "markdown",
   "id": "d757f0cb",
   "metadata": {},
   "source": [
    "## 4. Anonymisation des données\n",
    "- En santé, il est important de manipuler des données anonymes lors des activités de recherche.\n",
    "- Il est donc nécessaire d'anonymiser vos données.\n",
    "- Pour anonymisé un `Dataset`\n",
    "    1. Transformez le en `bytes` avec la fonction `dicom_dataset_to_bytes`\n",
    "    2. Faire un POST à `http://<url>/anonymize` avec le dataset en bytes en tant que fichier\n",
    "        - `requests.post(..., files={'file': dataset_bytes})`\n",
    "    3. Récupérer la réponse en dataset (`read_dicom_dataset(response.content)`)"
   ]
  },
  {
   "cell_type": "code",
   "execution_count": null,
   "id": "290352cb",
   "metadata": {},
   "outputs": [],
   "source": []
  },
  {
   "cell_type": "markdown",
   "id": "448d9ae3",
   "metadata": {},
   "source": [
    "- Vérifiez si les `Dataset` ont toujours de l'informations personnelles (`dataset.PatientName`)."
   ]
  },
  {
   "cell_type": "code",
   "execution_count": null,
   "id": "ad7cb221",
   "metadata": {},
   "outputs": [],
   "source": []
  },
  {
   "cell_type": "markdown",
   "id": "44f94990",
   "metadata": {},
   "source": [
    "## 5. Calculer des DVH\n",
    "\n",
    "- Maintenant que vous avez des données anonymes, vous pouvez obtenir les DVH.\n",
    "- Pour chaque structure :\n",
    "    1. Transformez les datasets de structure et de dose en `bytes` avec la fonction `dicom_dataset_to_bytes`\n",
    "    2. Faîtes un POST à `http://<url>/dvh`, les dataset en bytes en tant que fichiers `{'file_struct': struct_bytes, 'file_dose': dose_bytes}`\n",
    "    3. Récupérez les réponses sous le format JSON (`response.json()`)."
   ]
  },
  {
   "cell_type": "code",
   "execution_count": null,
   "id": "bc8611a9",
   "metadata": {},
   "outputs": [],
   "source": []
  },
  {
   "cell_type": "markdown",
   "id": "0d5a52f9",
   "metadata": {},
   "source": [
    "## 6. Tracer des DVH\n",
    "\n",
    "- Maintenant que vous avez les données des DVH, vous pouvez tracer un graphique.\n",
    "- Pour ce faire, faîtes un POST à `http://<url>/dvh/plot`.\n",
    "- Le post doit contenir les informations suivantes :\n",
    "```python\n",
    "requests.post(\n",
    "    ...,\n",
    "    json={\n",
    "        'dvhs': [\n",
    "            {'name': ..., 'volumes': ..., 'doses': ..., 'volume_units': ..., 'dose_units': ...},\n",
    "            {'name': ..., 'volumes': ..., 'doses': ..., 'volume_units': ..., 'dose_units': ...}\n",
    "            ...\n",
    "        ]\n",
    "    }\n",
    ")\n",
    "```"
   ]
  },
  {
   "cell_type": "code",
   "execution_count": null,
   "id": "5457d8c4",
   "metadata": {},
   "outputs": [],
   "source": []
  },
  {
   "cell_type": "markdown",
   "id": "8576add0",
   "metadata": {},
   "source": [
    "- Le contenu de la réponse est un fichier `.png`. Vous pouvez l'afficher avec la fonction `show_image_from_bytes(response.content)`. "
   ]
  },
  {
   "cell_type": "code",
   "execution_count": null,
   "id": "69e98a39",
   "metadata": {},
   "outputs": [],
   "source": []
  },
  {
   "cell_type": "markdown",
   "id": "c488b0ed",
   "metadata": {},
   "source": [
    "## Voilà, vous avez obtenu des DVH!\n",
    "\n",
    "Maintenant que vous savez manipuler une API REST, vous pouvez allez voir comment en faire une. \n",
    "Cet atelier utilise ce projet : https://github.com/ulaval-rs/prog-fest-web-workshop/blob/main/app.py.\n",
    "La librairie utilisée pour construire l'application est celle-ci https://flask-restful.readthedocs.io/en/latest/quickstart.html."
   ]
  }
 ],
 "metadata": {
  "kernelspec": {
   "display_name": "Python 3 (ipykernel)",
   "language": "python",
   "name": "python3"
  },
  "language_info": {
   "codemirror_mode": {
    "name": "ipython",
    "version": 3
   },
   "file_extension": ".py",
   "mimetype": "text/x-python",
   "name": "python",
   "nbconvert_exporter": "python",
   "pygments_lexer": "ipython3",
   "version": "3.10.2"
  }
 },
 "nbformat": 4,
 "nbformat_minor": 5
}
