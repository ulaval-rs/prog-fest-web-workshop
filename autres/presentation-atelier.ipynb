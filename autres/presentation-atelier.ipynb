{
 "cells": [
  {
   "cell_type": "code",
   "execution_count": 1,
   "id": "1e1ab997",
   "metadata": {
    "slideshow": {
     "slide_type": "skip"
    }
   },
   "outputs": [],
   "source": [
    "import io\n",
    "from pprint import pprint\n",
    "\n",
    "import requests\n",
    "\n",
    "import pydicom\n",
    "import matplotlib.pyplot as plt\n",
    "from pydicom import uid\n",
    "from pydicom.filebase import DicomFileLike\n",
    "from matplotlib.image import imread\n",
    "\n",
    "\n",
    "def read_dicom_dataset(raw_data: bytes) -> pydicom.Dataset:\n",
    "    \"\"\"Permet de lire les bytes d'un fichier DICOM et le transformer en Dataset DICOM\"\"\"\n",
    "    instance_uid = uid.generate_uid()\n",
    "    buffer = io.BytesIO(raw_data)\n",
    "    ds = pydicom.dcmread(buffer)\n",
    "\n",
    "    return ds\n",
    "\n",
    "\n",
    "def dicom_dataset_to_bytes(ds: pydicom.Dataset) -> io.BytesIO:\n",
    "    \"\"\"Permet d'écrire un Dataset DICOM en bytes\"\"\"\n",
    "    buffer = io.BytesIO()\n",
    "    memory_dataset = DicomFileLike(buffer)\n",
    "    pydicom.dcmwrite(memory_dataset, ds)\n",
    "    memory_dataset.seek(0)\n",
    "\n",
    "    return buffer\n",
    "\n",
    "\n",
    "def show_image_from_bytes(raw_data: bytes) -> None:\n",
    "    buffer = io.BytesIO(raw_data)\n",
    "    img = imread(buffer, format='png')\n",
    "\n",
    "    plt.figure(figsize=(13, 10))\n",
    "    plt.imshow(img)\n",
    "    plt.axis('off')\n",
    "    plt.show()\n",
    "\n",
    "\n",
    "URL = 'https://progfest-rest.apps.valeria.science'"
   ]
  },
  {
   "cell_type": "markdown",
   "id": "cb5c21e9",
   "metadata": {
    "slideshow": {
     "slide_type": "slide"
    }
   },
   "source": [
    "# <center>API REST : accéder à des données et des fonctionnalités via le web</center>\n",
    "\n",
    "<br>\n",
    "<center>Gabriel Couture, Félix-Antoine Fortin, Olivier Chouinard-Banville</center>"
   ]
  },
  {
   "cell_type": "markdown",
   "id": "e0d9d53c",
   "metadata": {
    "slideshow": {
     "slide_type": "slide"
    }
   },
   "source": [
    "## Mise en situation\n",
    "\n",
    "- Vous êtes un stagiaire en physique médiale\n",
    "- Vous devez évaluer la qualité de traitements de radiothérapie\n",
    "- Pour ce faire : vous allez créer des histogrammes dose-volume (DVH)"
   ]
  },
  {
   "cell_type": "markdown",
   "id": "4bc0d2c9",
   "metadata": {
    "slideshow": {
     "slide_type": "slide"
    }
   },
   "source": [
    "## Radiothérapie : cours express\n",
    "\n",
    "<br>\n",
    "<center><img src=\"../imgs/flot-radiotherapie.png\" style=\"width: 700px;\"></center>\n",
    "<br>\n",
    "<center><img src=\"../imgs/radiotherapy.png\" style=\"width: 500px;\"></center>"
   ]
  },
  {
   "cell_type": "markdown",
   "id": "5d81dc49",
   "metadata": {
    "slideshow": {
     "slide_type": "slide"
    }
   },
   "source": [
    "## Radiothérapie : images\n",
    "Acquisition d'images (ex. CT)\n",
    "\n",
    "<br>\n",
    "<center><img src=\"../imgs/phantom-thorax.png\" style=\"width: 300px;\"></center>"
   ]
  },
  {
   "cell_type": "markdown",
   "id": "be6d4de6",
   "metadata": {
    "slideshow": {
     "slide_type": "slide"
    }
   },
   "source": [
    "## Radiothérapie : contours\n",
    "- Tracé de structure (organes/région d'intérêt)\n",
    "\n",
    "<table border=\"0\">\n",
    " <tr>\n",
    "    <td><img src=\"../imgs/contours.png\" style=\"height: 300px;\"></td>\n",
    "    <td><img src=\"../imgs/structure.png\" style=\"height: 300px;\"></td>\n",
    " </tr>\n",
    "</table>"
   ]
  },
  {
   "cell_type": "markdown",
   "id": "bbb5e498",
   "metadata": {
    "slideshow": {
     "slide_type": "slide"
    }
   },
   "source": [
    "## Radiothérapie : cours express\n",
    "- Planification de la dose\n",
    "\n",
    "<center><img src=\"../imgs/dose-distribution.png\" style=\"width: 600px;\"></center>"
   ]
  },
  {
   "cell_type": "markdown",
   "id": "07d7c9a6",
   "metadata": {
    "slideshow": {
     "slide_type": "slide"
    }
   },
   "source": [
    "## Radiothérapie : cours express\n",
    "- Données impliquées\n",
    "    - Images CT\n",
    "        - Fichier DICOM de type \"__CT__\"\n",
    "    - Structure (région/organe dessiné)\n",
    "        - Fichier DICOM de type \"__RTStruct__\"\n",
    "    - Carte de dose (array en 3D de la dose délivrée)\n",
    "        - Fichier DICOM de type \"__RTDose__\"\n",
    "<center><img src=\"../imgs/ct-struct-dose.gif\" style=\"width: 100%;\"></center>"
   ]
  },
  {
   "cell_type": "markdown",
   "id": "a3edea55",
   "metadata": {
    "slideshow": {
     "slide_type": "slide"
    }
   },
   "source": [
    "## Comment évaluer la qualité du traitement?\n",
    "\n",
    "- Construire un histogramme dose-volume (DVH)!\n",
    "\n",
    "<center><img src=\"../imgs/dvh-process.png\" style=\"width: 600px;\"></center>\n",
    "<center><img src=\"../imgs/dvh-diff-to-cumulative.png\" style=\"width: 600px;\"></center>"
   ]
  },
  {
   "cell_type": "markdown",
   "id": "2c22cf4c",
   "metadata": {
    "slideshow": {
     "slide_type": "slide"
    }
   },
   "source": [
    "## Résultat final : un DVH!\n",
    "- ~100% de la cible reçoit la dose de prescription\n",
    "- Organes sensibles épargnés autant que possible\n",
    "\n",
    "<br>\n",
    "<center><img src=\"../imgs/dvh-exemple.png\" style=\"width: 700px;\"></center>"
   ]
  },
  {
   "cell_type": "markdown",
   "id": "357bfb5a",
   "metadata": {
    "slideshow": {
     "slide_type": "slide"
    }
   },
   "source": [
    "## Atelier : ce qui est à faire\n",
    "\n",
    "- Une API REST vous est mise à disposition. À partir de celle-ci, vous pourrez :\n",
    "    - Récupérer des données\n",
    "    - Anonymiser des données\n",
    "    - Calculer des DVH\n",
    "    - Et plus!\n",
    "\n",
    "<center><img src=\"../imgs/atelier.png\" style=\"width: 1200px;\"></center>"
   ]
  },
  {
   "cell_type": "markdown",
   "id": "b7d65969",
   "metadata": {
    "slideshow": {
     "slide_type": "slide"
    }
   },
   "source": [
    "## Données à manipuler\n",
    "\n",
    "- 3 fichiers RTStruct (cylindre, shpère, cone)\n",
    "- 1 fichier RTDose\n",
    "<table border=\"0\">\n",
    " <tr>\n",
    "    <td><img src=\"../imgs/cylinder.png\" style=\"height: 250px;\"></td>\n",
    "    <td><img src=\"../imgs/sphere.png\" style=\"height: 250px;\"></td>\n",
    "    <td><img src=\"../imgs/cone.png\" style=\"height: 250px;\"></td>\n",
    "    <td><img src=\"../imgs/dose-workflow.png\" style=\"height: 250px;\"></td>\n",
    " </tr>\n",
    "</table>\n",
    "Source : https://doi.org/10.1118/1.4923175"
   ]
  },
  {
   "cell_type": "markdown",
   "id": "e823be67",
   "metadata": {
    "slideshow": {
     "slide_type": "slide"
    }
   },
   "source": [
    "## Librairie Python `requests`\n",
    "\n",
    "```python\n",
    "response = requests.get(url='http://<url>/<route>', params={'key': 'value'})\n",
    "response = requests.post(\n",
    "    url='http://<url>/<route>',\n",
    "    data={'key': 'value'},          # Pour les valeurs (str, float ou int)\n",
    "    files={'key': bytes},           # Pour des fichiers (sous forme de bytes)\n",
    "    json={'key': {'key': 'value'}}) # Pour des dictionnaires ou listes\n",
    "response = requests.put(\n",
    "    url='http://<url>/<route>',\n",
    "    data={'key': 'value'},           # ...\n",
    "    files={'key': bytes},            # ...\n",
    "    json={'key': {'key': 'value'}})  # ...\n",
    "response = requests.delete(url='http://<url>/<route>', params={'key': 'value'})\n",
    "```"
   ]
  },
  {
   "cell_type": "markdown",
   "id": "ae2b77e4",
   "metadata": {
    "slideshow": {
     "slide_type": "slide"
    }
   },
   "source": [
    "## Valider la connexion\n",
    "\n",
    "- Validez d'abord que vous pouvez interagir avec l'API REST."
   ]
  },
  {
   "cell_type": "code",
   "execution_count": 2,
   "id": "5b3b2bd1",
   "metadata": {
    "slideshow": {
     "slide_type": "-"
    }
   },
   "outputs": [
    {
     "name": "stdout",
     "output_type": "stream",
     "text": [
      "200\n",
      "{'message': \"Bonjour et bienvenue à l'atelier sur les API REST!\"}\n"
     ]
    }
   ],
   "source": [
    "response = requests.get(f'{URL}')\n",
    "print(response.status_code)\n",
    "pprint(response.json())"
   ]
  },
  {
   "cell_type": "markdown",
   "id": "c251f711",
   "metadata": {
    "pycharm": {
     "name": "#%% md\n"
    },
    "slideshow": {
     "slide_type": "slide"
    }
   },
   "source": [
    "## 1. Création d'un compte\n",
    "- Pour créer un compte, soumetter votre IDUL via un POST à l'adresse `http://<url>/account`.\n",
    "    - Dans le cadre de cet atelier, vous n'aurez pas besoin de mot de passe.\n",
    "    - Vous pouvez soumettre votre idul de cette façon : \n",
    "        ```python\n",
    "        response = resquests.post(\n",
    "            url='http://<url>/account',\n",
    "            data={'idul': 'votre-idul'}\n",
    "        )\n",
    "        ```\n",
    "- Regardez le code HTTP (`response.status_code`) ainsi que le message (`response.text` ou `response.json()`)."
   ]
  },
  {
   "cell_type": "code",
   "execution_count": 3,
   "id": "9f6f84e5",
   "metadata": {
    "pycharm": {
     "name": "#%%\n"
    },
    "slideshow": {
     "slide_type": "fragment"
    }
   },
   "outputs": [
    {
     "name": "stdout",
     "output_type": "stream",
     "text": [
      "409\n",
      "{'error': '\"gacou42\" user already exits'}\n"
     ]
    }
   ],
   "source": [
    "response = requests.post(f'{URL}/account', data={'idul': 'gacou42'})\n",
    "print(response.status_code)\n",
    "print(response.json())"
   ]
  },
  {
   "cell_type": "markdown",
   "id": "6fa66810",
   "metadata": {
    "slideshow": {
     "slide_type": "slide"
    }
   },
   "source": [
    "## 2. Authentification\n",
    "\n",
    "- Vous avez maintenant un compte, utilisez votre IDUL pour vous connecter!\n",
    "- La route de l'API REST qui vous permet d'émettre un jeton d'authentification est `http://<url>/auth`\n",
    "- Soumettez votre idul via un POST afin d'émettre un jeton (token)\n",
    "- Ce jeton vous permettra valider votre identiter par la suite"
   ]
  },
  {
   "cell_type": "code",
   "execution_count": 4,
   "id": "ac845f68",
   "metadata": {
    "scrolled": true,
    "slideshow": {
     "slide_type": "fragment"
    }
   },
   "outputs": [
    {
     "name": "stdout",
     "output_type": "stream",
     "text": [
      "200\n",
      "{'token': 'e2a2f3d81a0de2ba37bb821c9e16c7960e21cf84'}\n"
     ]
    }
   ],
   "source": [
    "response = requests.post(f'{URL}/auth', data={'idul': 'gacou42'})\n",
    "print(response.status_code)\n",
    "print(response.json())"
   ]
  },
  {
   "cell_type": "markdown",
   "id": "c1e2d4af",
   "metadata": {
    "slideshow": {
     "slide_type": "slide"
    }
   },
   "source": [
    "## 3. Récupération des données\n",
    "- Vous avez maintenant votre `token` pour vous authentifier, il est désormais possible de récupérer les données.\n",
    "- L'adresse où les données sont accessibles est `http://<url>/data`.\n",
    "- Faites un GET, avec votre token en paramètre (`params={'token': '<votre-token>'}`) pour vérifier quelles données sont accessibles."
   ]
  },
  {
   "cell_type": "code",
   "execution_count": 5,
   "id": "90167c4c",
   "metadata": {
    "slideshow": {
     "slide_type": "fragment"
    }
   },
   "outputs": [
    {
     "name": "stdout",
     "output_type": "stream",
     "text": [
      "['sphere', 'cylinder', 'cone', 'dose']\n"
     ]
    }
   ],
   "source": [
    "TOKEN = response.json()['token']\n",
    "\n",
    "response = requests.get(f'{URL}/data', params={'token': TOKEN})\n",
    "print(response.json())"
   ]
  },
  {
   "cell_type": "markdown",
   "id": "13e42027",
   "metadata": {
    "slideshow": {
     "slide_type": "slide"
    }
   },
   "source": [
    "## 3.1 Récupération des données\n",
    "\n",
    "- Vous devriez observer 4 données\n",
    "- Pour les récupérer, faites un GET à `http://<url>/data/<nom-donnée>` avec le token en paramètre\n",
    "- Le contenu de la réponse est un fichier binaire (`response.content`).\n",
    "    - Pour le transformer en `Dataset` :\n",
    "        - `dataset = read_dicom_dataset(response.content)`"
   ]
  },
  {
   "cell_type": "code",
   "execution_count": 6,
   "id": "4f518587",
   "metadata": {
    "slideshow": {
     "slide_type": "fragment"
    }
   },
   "outputs": [],
   "source": [
    "response = requests.get(f'{URL}/data/sphere', params={'token': TOKEN})\n",
    "sphere = read_dicom_dataset(response.content)\n",
    "\n",
    "response = requests.get(f'{URL}/data/cylinder', params={'token': TOKEN})\n",
    "cylinder = read_dicom_dataset(response.content)\n",
    "\n",
    "response = requests.get(f'{URL}/data/cone', params={'token': TOKEN})\n",
    "cone = read_dicom_dataset(response.content)\n",
    "\n",
    "response = requests.get(f'{URL}/data/dose', params={'token': TOKEN})\n",
    "dose = read_dicom_dataset(response.content)"
   ]
  },
  {
   "cell_type": "markdown",
   "id": "598822a3",
   "metadata": {
    "slideshow": {
     "slide_type": "slide"
    }
   },
   "source": [
    "## 3.2 Récupération des données\n",
    "- Maintenant que vous avez les 4 `Dataset`, vérifiez s'ils contiennent des informations personnelles.\n",
    "    - Observez l'attribut `dataset.PatientName` pour voir s'il contient un nom personnel.\n",
    "    "
   ]
  },
  {
   "cell_type": "code",
   "execution_count": 7,
   "id": "87836424",
   "metadata": {
    "slideshow": {
     "slide_type": "fragment"
    }
   },
   "outputs": [
    {
     "name": "stdout",
     "output_type": "stream",
     "text": [
      "Gabriel Couture\n",
      "Gabriel Couture\n",
      "Gabriel Couture\n",
      "Gabriel Couture\n"
     ]
    }
   ],
   "source": [
    "print(sphere.PatientName)\n",
    "print(cylinder.PatientName)\n",
    "print(cone.PatientName)\n",
    "print(dose.PatientName)"
   ]
  },
  {
   "cell_type": "markdown",
   "id": "b1622655",
   "metadata": {
    "slideshow": {
     "slide_type": "slide"
    }
   },
   "source": [
    "## 4. Anonymisation des données\n",
    "- En santé, il est important de manipuler des données anonymes lors des activités de recherche.\n",
    "- Pour anonymisé un `Dataset`\n",
    "    1. Transformez le en `bytes` avec la fonction \n",
    "        - `dataset_bytes = dicom_dataset_to_bytes(dataset)`\n",
    "    2. Faire un POST à `http://<url>/anonymize` avec le dataset en bytes en tant que fichier\n",
    "        - `requests.post(..., files={'file': dataset_bytes})`\n",
    "    3. Récupérer la réponse et transformez la en dataset \n",
    "        - `dataset = read_dicom_dataset(response.content)`\n",
    "   "
   ]
  },
  {
   "cell_type": "markdown",
   "id": "38e10a9f",
   "metadata": {
    "slideshow": {
     "slide_type": "slide"
    }
   },
   "source": [
    "## 4. Anonymisation des données\n"
   ]
  },
  {
   "cell_type": "code",
   "execution_count": 8,
   "id": "68150129",
   "metadata": {
    "slideshow": {
     "slide_type": "-"
    }
   },
   "outputs": [],
   "source": [
    "sphere_bytes = dicom_dataset_to_bytes(sphere)\n",
    "response = requests.post(f'{URL}/anonymize', files={'file': sphere_bytes})\n",
    "sphere = read_dicom_dataset(response.content)\n",
    "\n",
    "cylinder_bytes = dicom_dataset_to_bytes(cylinder)\n",
    "response = requests.post(f'{URL}/anonymize', files={'file': cylinder_bytes})\n",
    "cylinder = read_dicom_dataset(response.content)\n",
    "\n",
    "cone_bytes = dicom_dataset_to_bytes(cone)\n",
    "response = requests.post(f'{URL}/anonymize', files={'file': cone_bytes})\n",
    "cone = read_dicom_dataset(response.content)\n",
    "\n",
    "dose_bytes = dicom_dataset_to_bytes(dose)\n",
    "response = requests.post(f'{URL}/anonymize', files={'file': dose_bytes})\n",
    "dose = read_dicom_dataset(response.content)"
   ]
  },
  {
   "cell_type": "markdown",
   "id": "99f5605a",
   "metadata": {
    "slideshow": {
     "slide_type": "slide"
    }
   },
   "source": [
    "## 4.1 Anonymisation des données\n",
    "- Vérifiez si les `Dataset` ont toujours de l'informations personnelles (`dataset.PatientName`)."
   ]
  },
  {
   "cell_type": "code",
   "execution_count": 9,
   "id": "d4868169",
   "metadata": {
    "slideshow": {
     "slide_type": "-"
    }
   },
   "outputs": [
    {
     "name": "stdout",
     "output_type": "stream",
     "text": [
      "^\n",
      "^\n",
      "^\n",
      "^\n"
     ]
    }
   ],
   "source": [
    "print(sphere.PatientName)\n",
    "print(cylinder.PatientName)\n",
    "print(cone.PatientName)\n",
    "print(dose.PatientName)"
   ]
  },
  {
   "cell_type": "markdown",
   "id": "e45a13d4",
   "metadata": {
    "pycharm": {
     "name": "#%% md\n"
    },
    "slideshow": {
     "slide_type": "slide"
    }
   },
   "source": [
    "## 5. Calculer des DVH\n",
    "\n",
    "- Maintenant que vous avez des données anonymes, vous pouvez obtenir les DVH.\n",
    "- Pour chaque structure :\n",
    "    1. Transformez les datasets de structure et de dose en `bytes` avec la fonction `dicom_dataset_to_bytes`\n",
    "    2. Faites un POST à `http://<url>/dvh`, les dataset en bytes en tant que fichiers `files={'file_struct': struct_bytes, 'file_dose': dose_bytes}`\n",
    "    3. Récupérez les réponses sous le format JSON (`response.json()`)."
   ]
  },
  {
   "cell_type": "code",
   "execution_count": 10,
   "id": "b937e96d",
   "metadata": {
    "pycharm": {
     "name": "#%%\n"
    },
    "slideshow": {
     "slide_type": "fragment"
    }
   },
   "outputs": [],
   "source": [
    "dvhs = []\n",
    "\n",
    "for struct in [sphere, cylinder, cone]:\n",
    "    response = requests.post(\n",
    "        f'{URL}/dvh',\n",
    "        files={\n",
    "            'file_struct': dicom_dataset_to_bytes(struct),\n",
    "            'file_dose': dicom_dataset_to_bytes(dose)\n",
    "        }\n",
    "    )\n",
    "    dvhs.append(response.json())"
   ]
  },
  {
   "cell_type": "markdown",
   "id": "8431deef",
   "metadata": {
    "slideshow": {
     "slide_type": "slide"
    }
   },
   "source": [
    "## 6. Tracer des DVH\n",
    "\n",
    "- Maintenant que vous avez les données des DVH, vous pouvez tracer un graphique.\n",
    "- Pour ce faire, faites un POST à `http://<url>/dvh/plot`.\n",
    "- Le post doit contenir les informations suivantes :\n",
    "```python\n",
    "requests.post(\n",
    "    ...,\n",
    "    json={\n",
    "        'dvhs': [\n",
    "            {'name': ..., 'volumes': ..., 'doses': ..., 'volume_units': ..., 'dose_units': ...},\n",
    "            {'name': ..., 'volumes': ..., 'doses': ..., 'volume_units': ..., 'dose_units': ...}\n",
    "            ...\n",
    "        ]\n",
    "    }\n",
    ")\n",
    "```"
   ]
  },
  {
   "cell_type": "markdown",
   "id": "756c7b08",
   "metadata": {
    "slideshow": {
     "slide_type": "slide"
    }
   },
   "source": [
    "## 6. Tracer des DVH"
   ]
  },
  {
   "cell_type": "code",
   "execution_count": 11,
   "id": "90596fe8",
   "metadata": {
    "slideshow": {
     "slide_type": "-"
    }
   },
   "outputs": [
    {
     "name": "stdout",
     "output_type": "stream",
     "text": [
      "200\n"
     ]
    }
   ],
   "source": [
    "response = requests.post(\n",
    "    f'{URL}/dvh/plot',\n",
    "    json={'dvhs': dvhs}\n",
    ")\n",
    "print(response.status_code)"
   ]
  },
  {
   "cell_type": "markdown",
   "id": "297de09e",
   "metadata": {
    "slideshow": {
     "slide_type": "slide"
    }
   },
   "source": [
    "## 6.1 Tracer des DVH\n",
    "- Le contenu de la réponse est une image `.png` des DVH. Vous pouvez l'afficher avec la fonction `show_image_from_bytes(response.content)`. "
   ]
  },
  {
   "cell_type": "code",
   "execution_count": 12,
   "id": "129ed935",
   "metadata": {
    "pycharm": {
     "name": "#%%\n"
    },
    "slideshow": {
     "slide_type": "fragment"
    }
   },
   "outputs": [
    {
     "data": {
      "image/png": "[encoded data removed]",
      "text/plain": [
       "<Figure size 936x720 with 1 Axes>"
      ]
     },
     "metadata": {
      "needs_background": "light"
     },
     "output_type": "display_data"
    }
   ],
   "source": [
    "show_image_from_bytes(response.content)"
   ]
  },
  {
   "cell_type": "markdown",
   "id": "358d2072",
   "metadata": {
    "slideshow": {
     "slide_type": "slide"
    }
   },
   "source": [
    "## Félicitations, vous avez obtenu des DVH!\n",
    "\n",
    "- Maintenant que vous savez manipuler une API REST, vous pouvez allez voir comment en faire une. \n",
    "    - La librairie utilisée pour construire l'API REST utilisée dans cet atelier est celle-ci https://flask-restful.readthedocs.io/en/latest/quickstart.html.\n",
    "    - L'API REST utilisée dans cet atelier se trouve ici : https://github.com/ulaval-rs/prog-fest-web-workshop/blob/main/app.py."
   ]
  }
 ],
 "metadata": {
  "celltoolbar": "Diaporama",
  "kernelspec": {
   "display_name": "Python 3 (ipykernel)",
   "language": "python",
   "name": "python3"
  },
  "language_info": {
   "codemirror_mode": {
    "name": "ipython",
    "version": 3
   },
   "file_extension": ".py",
   "mimetype": "text/x-python",
   "name": "python",
   "nbconvert_exporter": "python",
   "pygments_lexer": "ipython3",
   "version": "3.10.2"
  },
  "rise": {
   "height": "90%",
   "width": "90%"
  }
 },
 "nbformat": 4,
 "nbformat_minor": 5
}
